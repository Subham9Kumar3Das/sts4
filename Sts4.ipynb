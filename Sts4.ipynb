{
 "cells": [
  {
   "cell_type": "markdown",
   "id": "16f0282a-e765-4ee8-9ff5-61bc082c3ffe",
   "metadata": {},
   "source": [
    "`Q1: T-test vs. Z-test:`\n",
    "\n",
    "T-test: Used when working with small sample sizes (typically less than 30) and when the population standard deviation is unknown.\n",
    "Example: Comparing the mean test scores of two different classrooms, each with 15 students.\n",
    "\n",
    "Z-test: Applied when dealing with larger sample sizes and when the population standard deviation is known.\n",
    "Example: Analyzing the average height of a population based on a sample of 100 individuals with a known standard deviation."
   ]
  },
  {
   "cell_type": "markdown",
   "id": "e42a01e9-9aae-4a98-b07e-3c8463b8262f",
   "metadata": {},
   "source": [
    "`Q2: One-tailed vs. Two-tailed tests:`\n",
    "\n",
    "One-tailed test: Used when you're interested in only one direction of the effect (either greater than or less than).\n",
    "Example: Testing if a new drug increases, but not decreases, patients' energy levels.\n",
    "\n",
    "Two-tailed test: Applied when you want to detect any significant difference, whether it's an increase or decrease.\n",
    "Example: Investigating if a training program affects performance, regardless of whether it improves or impairs it."
   ]
  },
  {
   "cell_type": "markdown",
   "id": "c79284db-2ba6-4d42-b0be-812e80c4d99b",
   "metadata": {},
   "source": [
    "`Q3: Type 1 and Type 2 errors:`\n",
    "\n",
    "Type 1 error (False Positive): Incorrectly rejecting a true null hypothesis.\n",
    "Example: Concluding a patient has a disease when they don't.\n",
    "\n",
    "Type 2 error (False Negative): Failing to reject a false null hypothesis.\n",
    "Example: Concluding a patient is healthy when they actually have the disease."
   ]
  },
  {
   "cell_type": "markdown",
   "id": "ca525403-69cd-4ecc-b0bc-5b526c171096",
   "metadata": {},
   "source": [
    "`Q4: Bayes's Theorem:`\n",
    "\n",
    "A mathematical formula for updating probabilities based on new evidence.\n",
    "Example: Updating the probability of a person having a specific disease after receiving the results of a diagnostic test."
   ]
  },
  {
   "cell_type": "markdown",
   "id": "717cf730-d1c4-4792-bd12-3c2c73ef0153",
   "metadata": {},
   "source": [
    "`Q5: Confidence Interval:`\n",
    "\n",
    "A range of values that likely contains the true population parameter.\n",
    "Calculation Example: For a mean of 50, standard deviation of 5, and a sample size of 100, a 95% confidence interval is [48.73, 51.27]."
   ]
  },
  {
   "cell_type": "markdown",
   "id": "dbdd19df-bde5-42e9-ac73-1dec14263ccc",
   "metadata": {},
   "source": [
    "`Q6: Bayes's Theorem Application:`\n",
    "\n",
    "Problem: Given prior probability of rain (30%) and new evidence of dark clouds (80% chance if raining, 20% if not), calculate updated probability.\n",
    "Solution: P(Rain | Cloudy) = P(Cloudy | Rain) * P(Rain) / P(Cloudy) = 0.8 * 0.3 / P(Cloudy)."
   ]
  },
  {
   "cell_type": "markdown",
   "id": "f30f41c6-959c-4ff6-b3e4-af5e39ec2226",
   "metadata": {},
   "source": [
    "`Q7: 95% Confidence Interval:`\n",
    "\n",
    "Calculation: For a sample mean of 50, standard deviation of 5, and a sample size of 100, the interval is [48.22, 51.78].\n",
    "Interpretation: We are 95% confident that the true population mean lies within this range."
   ]
  },
  {
   "cell_type": "markdown",
   "id": "5bf4d5b0-7dce-488f-85d6-0eb83ee9c0e6",
   "metadata": {},
   "source": [
    "`Q8: Margin of Error and Sample Size:`\n",
    "\n",
    "Margin of Error: The range within which the true population parameter is likely to fall.\n",
    "Effect of Sample Size: Larger samples reduce the margin of error.\n",
    "Example: In a political poll, increasing the sample size from 200 to 1000 can decrease the margin of error."
   ]
  },
  {
   "cell_type": "markdown",
   "id": "2f3f2065-e974-41cf-bf75-42628263710c",
   "metadata": {},
   "source": [
    "`Q9: Z-Score Calculation:`\n",
    "\n",
    "Calculation: Z = (75 - 70) / 5 = 1.\n",
    "Interpretation: The data point is 1 standard deviation above the mean."
   ]
  },
  {
   "cell_type": "markdown",
   "id": "f641700e-7707-42aa-9dad-cba4cfdc688b",
   "metadata": {},
   "source": [
    "`Q10: Hypothesis Test for Weight Loss Drug:`\n",
    "\n",
    "Scenario: Using a t-test to check if the average weight loss of 6 pounds is significantly different from zero in a sample of 50 participants.\n",
    "\n",
    "The critical t-value for a two-tailed test with 49 degrees of freedom and \n",
    "\n",
    "0.05\n",
    "α=0.05 is approximately \n",
    "±\n",
    "2.0096\n",
    "±2.0096.\n",
    "\n",
    "Conclusion: \n",
    "\n",
    "∣t∣ is greater than \n",
    "2.0096\n",
    "2.0096, so we reject the null hypothesis. Therefore, there is enough evidence to conclude that the average weight loss with the new drug is significantly different from zero at a 95% confidence level."
   ]
  },
  {
   "cell_type": "markdown",
   "id": "601c27c6-44db-46f1-8a37-3ec20afebdfa",
   "metadata": {},
   "source": [
    "`Q11: Confidence Interval for Job Satisfaction:`\n",
    "\n",
    "Calculation: For a sample proportion of 0.65 and a sample size of 500, the 95% confidence interval is [0.61, 0.69].\n",
    "Through the formulae CI = p±root over(p*(1-p)/n)"
   ]
  },
  {
   "cell_type": "markdown",
   "id": "5e2f3339-6a33-487d-808a-18459517df1f",
   "metadata": {},
   "source": [
    "`Q12: Hypothesis Test for Teaching Methods:`\n",
    "\n",
    "Scenario: Conducting a t-test to determine if there's a significant difference in student performance between two teaching methods."
   ]
  },
  {
   "cell_type": "markdown",
   "id": "79dc4f0d-6b39-4987-a5e7-84eb9b66f38d",
   "metadata": {},
   "source": [
    "`Q12: Hypothesis Test for Teaching Methods:`\n",
    "\n",
    "Scenario: Conducting a t-test to determine if there's a significant difference in student performance between two teaching methods.We cant calculate as there is not given any sample size. Still hypthesis is both mean are equal and alternate is both means are unequal.\n",
    "\n",
    "Formula is Differe of two mean by root over of sum of SD/sample size,where df is Total sample size of both -2.If lies within CI than accept null or reject null."
   ]
  },
  {
   "cell_type": "markdown",
   "id": "7670bb91-9452-412c-be6c-1698275697fb",
   "metadata": {},
   "source": [
    "`Q13: 90% Confidence Interval for Population Mean:`\n",
    "\n",
    "Calculation: For a sample mean of 65, standard deviation of 8, and a sample size of 50, the interval is [63.1, 66.9]."
   ]
  },
  {
   "cell_type": "markdown",
   "id": "70791250-0163-4fd8-9f63-ae5d6a5cbacd",
   "metadata": {},
   "source": [
    "`Q14: Hypothesis Test for Caffeine on Reaction Time:`\n",
    "\n",
    "Scenario: Using a t-test to assess if the average reaction time of 0.25 seconds is significantly different from a hypothetical mean at a 90% confidence level."
   ]
  },
  {
   "cell_type": "markdown",
   "id": "a12af1ba-c123-4f56-903a-ce6eaa48f886",
   "metadata": {},
   "source": [
    "`Q14: Hypothesis Test for Caffeine on Reaction Time:`\n",
    "\n",
    "Scenario: Using a t-test to assess if the average reaction time of 0.25 seconds is significantly different from a hypothetical mean at a 90% confidence level."
   ]
  },
  {
   "cell_type": "code",
   "execution_count": null,
   "id": "38d3c3d9-53e6-4f24-a7e2-266fc94fb8b0",
   "metadata": {},
   "outputs": [],
   "source": []
  }
 ],
 "metadata": {
  "kernelspec": {
   "display_name": "Python 3 (ipykernel)",
   "language": "python",
   "name": "python3"
  },
  "language_info": {
   "codemirror_mode": {
    "name": "ipython",
    "version": 3
   },
   "file_extension": ".py",
   "mimetype": "text/x-python",
   "name": "python",
   "nbconvert_exporter": "python",
   "pygments_lexer": "ipython3",
   "version": "3.10.8"
  }
 },
 "nbformat": 4,
 "nbformat_minor": 5
}
